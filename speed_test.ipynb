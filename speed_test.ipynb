{
  "nbformat": 4,
  "nbformat_minor": 0,
  "metadata": {
    "colab": {
      "provenance": [],
      "authorship_tag": "ABX9TyOCuqYiylOxHS1/kc16Q0Ky",
      "include_colab_link": true
    },
    "kernelspec": {
      "name": "python3",
      "display_name": "Python 3"
    },
    "language_info": {
      "name": "python"
    }
  },
  "cells": [
    {
      "cell_type": "markdown",
      "metadata": {
        "id": "view-in-github",
        "colab_type": "text"
      },
      "source": [
        "<a href=\"https://colab.research.google.com/github/Janardhan2025/Projects/blob/main/speed_test.ipynb\" target=\"_parent\"><img src=\"https://colab.research.google.com/assets/colab-badge.svg\" alt=\"Open In Colab\"/></a>"
      ]
    },
    {
      "cell_type": "code",
      "execution_count": 1,
      "metadata": {
        "colab": {
          "base_uri": "https://localhost:8080/"
        },
        "id": "vT8bqN72_8n7",
        "outputId": "bfbfffd3-963c-469b-a85a-6333dc69c874"
      },
      "outputs": [
        {
          "output_type": "stream",
          "name": "stdout",
          "text": [
            "Collecting speedtest-cli\n",
            "  Downloading speedtest_cli-2.1.3-py2.py3-none-any.whl.metadata (6.8 kB)\n",
            "Downloading speedtest_cli-2.1.3-py2.py3-none-any.whl (23 kB)\n",
            "Installing collected packages: speedtest-cli\n",
            "Successfully installed speedtest-cli-2.1.3\n",
            "Download Speed: 2261.94 Mbps\n",
            "Upload Speed: 784.99 Mbps\n",
            "Ping: 4.48 ms\n"
          ]
        }
      ],
      "source": [
        "# Install the speedtest module\n",
        "!pip install speedtest-cli\n",
        "# Import and run speed test\n",
        "import speedtest\n",
        "# Create a Speedtest object\n",
        "st = speedtest.Speedtest()\n",
        "# Choose the best server\n",
        "st.get_best_server()\n",
        "# Run download and upload speed tests\n",
        "download_speed = st.download() / 1_000_000  # Convert from bits to Megabits\n",
        "upload_speed = st.upload() / 1_000_000      # Convert from bits to Megabits\n",
        "ping = st.results.ping\n",
        "\n",
        "# Print results\n",
        "print(f\"Download Speed: {download_speed:.2f} Mbps\")\n",
        "print(f\"Upload Speed: {upload_speed:.2f} Mbps\")\n",
        "print(f\"Ping: {ping:.2f} ms\")\n"
      ]
    }
  ]
}