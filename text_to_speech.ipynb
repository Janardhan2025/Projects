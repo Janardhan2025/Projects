{
  "nbformat": 4,
  "nbformat_minor": 0,
  "metadata": {
    "colab": {
      "provenance": [],
      "authorship_tag": "ABX9TyNtqcuVnvSvfbJeqa7nwhuI",
      "include_colab_link": true
    },
    "kernelspec": {
      "name": "python3",
      "display_name": "Python 3"
    },
    "language_info": {
      "name": "python"
    }
  },
  "cells": [
    {
      "cell_type": "markdown",
      "metadata": {
        "id": "view-in-github",
        "colab_type": "text"
      },
      "source": [
        "<a href=\"https://colab.research.google.com/github/Janardhan2025/Projects/blob/main/text_to_speech.ipynb\" target=\"_parent\"><img src=\"https://colab.research.google.com/assets/colab-badge.svg\" alt=\"Open In Colab\"/></a>"
      ]
    },
    {
      "cell_type": "code",
      "execution_count": null,
      "metadata": {
        "colab": {
          "base_uri": "https://localhost:8080/",
          "height": 239
        },
        "id": "9G0FeXUuOcDg",
        "outputId": "635c11e9-5a1b-4b4a-e432-97adac00de98"
      },
      "outputs": [
        {
          "name": "stdout",
          "output_type": "stream",
          "text": [
            "Requirement already satisfied: gTTS in /usr/local/lib/python3.11/dist-packages (2.5.4)\n",
            "Requirement already satisfied: requests<3,>=2.27 in /usr/local/lib/python3.11/dist-packages (from gTTS) (2.32.3)\n",
            "Requirement already satisfied: click<8.2,>=7.1 in /usr/local/lib/python3.11/dist-packages (from gTTS) (8.1.8)\n",
            "Requirement already satisfied: charset-normalizer<4,>=2 in /usr/local/lib/python3.11/dist-packages (from requests<3,>=2.27->gTTS) (3.4.2)\n",
            "Requirement already satisfied: idna<4,>=2.5 in /usr/local/lib/python3.11/dist-packages (from requests<3,>=2.27->gTTS) (3.10)\n",
            "Requirement already satisfied: urllib3<3,>=1.21.1 in /usr/local/lib/python3.11/dist-packages (from requests<3,>=2.27->gTTS) (2.4.0)\n",
            "Requirement already satisfied: certifi>=2017.4.17 in /usr/local/lib/python3.11/dist-packages (from requests<3,>=2.27->gTTS) (2025.4.26)\n",
            "Enter text to convert to speech:\n",
            "hello world\n"
          ]
        },
        {
          "output_type": "execute_result",
          "data": {
            "text/plain": [
              "<IPython.lib.display.Audio object>"
            ],
            "text/html": [
              "\n",
              "                <audio  controls=\"controls\" autoplay=\"autoplay\">\n",
              "                    <source src=\"data:audio/mpeg;base64,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\" type=\"audio/mpeg\" />\n",
              "                    Your browser does not support the audio element.\n",
              "                </audio>\n",
              "              "
            ]
          },
          "metadata": {},
          "execution_count": 5
        }
      ],
      "source": [
        "# Install required packages\n",
        "!pip install gTTS\n",
        "from gtts import gTTS\n",
        "from IPython.display import Audio\n",
        "\n",
        "# Input text\n",
        "text = input(\"Enter text to convert to speech:\\n\")\n",
        "\n",
        "# Convert text to speech\n",
        "tts = gTTS(text)\n",
        "tts.save(\"speech.mp3\")\n",
        "\n",
        "# Play the audio\n",
        "Audio(\"speech.mp3\", autoplay=True)\n"
      ]
    }
  ]
}