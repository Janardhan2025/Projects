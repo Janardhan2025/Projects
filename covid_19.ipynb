{
  "nbformat": 4,
  "nbformat_minor": 0,
  "metadata": {
    "colab": {
      "provenance": [],
      "authorship_tag": "ABX9TyMKvOniHFkR6nXBAotDF/ic",
      "include_colab_link": true
    },
    "kernelspec": {
      "name": "python3",
      "display_name": "Python 3"
    },
    "language_info": {
      "name": "python"
    }
  },
  "cells": [
    {
      "cell_type": "markdown",
      "metadata": {
        "id": "view-in-github",
        "colab_type": "text"
      },
      "source": [
        "<a href=\"https://colab.research.google.com/github/Janardhan2025/Projects/blob/main/covid_19.ipynb\" target=\"_parent\"><img src=\"https://colab.research.google.com/assets/colab-badge.svg\" alt=\"Open In Colab\"/></a>"
      ]
    },
    {
      "cell_type": "code",
      "execution_count": 3,
      "metadata": {
        "colab": {
          "base_uri": "https://localhost:8080/",
          "height": 1000
        },
        "id": "lxN6XXpNK7wc",
        "outputId": "23f87904-81b5-4235-b687-92fce44e5f47"
      },
      "outputs": [
        {
          "metadata": {
            "tags": null
          },
          "name": "stdout",
          "output_type": "stream",
          "text": [
            "\n",
            "🌍 Global COVID-19 Update:\n",
            "--------------------------\n",
            "Confirmed Cases : 704753890\n",
            "Deaths          : 7010681\n",
            "Recovered       : 675619811\n",
            "\n",
            "\n",
            "🌍 Global COVID-19 Update:\n",
            "--------------------------\n",
            "Confirmed Cases : 704753890\n",
            "Deaths          : 7010681\n",
            "Recovered       : 675619811\n",
            "\n",
            "\n",
            "🌍 Global COVID-19 Update:\n",
            "--------------------------\n",
            "Confirmed Cases : 704753890\n",
            "Deaths          : 7010681\n",
            "Recovered       : 675619811\n",
            "\n",
            "\n",
            "🌍 Global COVID-19 Update:\n",
            "--------------------------\n",
            "Confirmed Cases : 704753890\n",
            "Deaths          : 7010681\n",
            "Recovered       : 675619811\n",
            "\n",
            "\n",
            "🌍 Global COVID-19 Update:\n",
            "--------------------------\n",
            "Confirmed Cases : 704753890\n",
            "Deaths          : 7010681\n",
            "Recovered       : 675619811\n",
            "\n",
            "\n",
            "🌍 Global COVID-19 Update:\n",
            "--------------------------\n",
            "Confirmed Cases : 704753890\n",
            "Deaths          : 7010681\n",
            "Recovered       : 675619811\n",
            "\n",
            "\n",
            "🌍 Global COVID-19 Update:\n",
            "--------------------------\n",
            "Confirmed Cases : 704753890\n",
            "Deaths          : 7010681\n",
            "Recovered       : 675619811\n",
            "\n",
            "\n",
            "🌍 Global COVID-19 Update:\n",
            "--------------------------\n",
            "Confirmed Cases : 704753890\n",
            "Deaths          : 7010681\n",
            "Recovered       : 675619811\n",
            "\n",
            "\n",
            "🌍 Global COVID-19 Update:\n",
            "--------------------------\n",
            "Confirmed Cases : 704753890\n",
            "Deaths          : 7010681\n",
            "Recovered       : 675619811\n",
            "\n",
            "\n",
            "🌍 Global COVID-19 Update:\n",
            "--------------------------\n",
            "Confirmed Cases : 704753890\n",
            "Deaths          : 7010681\n",
            "Recovered       : 675619811\n",
            "\n"
          ]
        },
        {
          "output_type": "error",
          "ename": "KeyboardInterrupt",
          "evalue": "",
          "traceback": [
            "\u001b[0;31m---------------------------------------------------------------------------\u001b[0m",
            "\u001b[0;31mKeyboardInterrupt\u001b[0m                         Traceback (most recent call last)",
            "\u001b[0;32m<ipython-input-3-f21cb9aa62a9>\u001b[0m in \u001b[0;36m<cell line: 0>\u001b[0;34m()\u001b[0m\n\u001b[1;32m     22\u001b[0m \u001b[0;34m\u001b[0m\u001b[0m\n\u001b[1;32m     23\u001b[0m \u001b[0;31m# ⚠️ To avoid infinite loop in Colab, only run once or a few times:\u001b[0m\u001b[0;34m\u001b[0m\u001b[0;34m\u001b[0m\u001b[0m\n\u001b[0;32m---> 24\u001b[0;31m \u001b[0mupdate\u001b[0m\u001b[0;34m(\u001b[0m\u001b[0;34m)\u001b[0m  \u001b[0;31m# You can modify this to update a limited number of times\u001b[0m\u001b[0;34m\u001b[0m\u001b[0;34m\u001b[0m\u001b[0m\n\u001b[0m",
            "\u001b[0;32m<ipython-input-3-f21cb9aa62a9>\u001b[0m in \u001b[0;36mupdate\u001b[0;34m()\u001b[0m\n\u001b[1;32m     19\u001b[0m             \u001b[0mprint\u001b[0m\u001b[0;34m(\u001b[0m\u001b[0;34mf\"[Error] Failed to fetch data:\\n{e}\"\u001b[0m\u001b[0;34m)\u001b[0m\u001b[0;34m\u001b[0m\u001b[0;34m\u001b[0m\u001b[0m\n\u001b[1;32m     20\u001b[0m \u001b[0;34m\u001b[0m\u001b[0m\n\u001b[0;32m---> 21\u001b[0;31m         \u001b[0mtime\u001b[0m\u001b[0;34m.\u001b[0m\u001b[0msleep\u001b[0m\u001b[0;34m(\u001b[0m\u001b[0;36m60\u001b[0m\u001b[0;34m)\u001b[0m  \u001b[0;31m# Wait 60 seconds before the next update\u001b[0m\u001b[0;34m\u001b[0m\u001b[0;34m\u001b[0m\u001b[0m\n\u001b[0m\u001b[1;32m     22\u001b[0m \u001b[0;34m\u001b[0m\u001b[0m\n\u001b[1;32m     23\u001b[0m \u001b[0;31m# ⚠️ To avoid infinite loop in Colab, only run once or a few times:\u001b[0m\u001b[0;34m\u001b[0m\u001b[0;34m\u001b[0m\u001b[0m\n",
            "\u001b[0;31mKeyboardInterrupt\u001b[0m: "
          ]
        }
      ],
      "source": [
        "import requests\n",
        "import time\n",
        "\n",
        "def update():\n",
        "    while True:\n",
        "        try:\n",
        "            r = requests.get('https://disease.sh/v3/covid-19/all')\n",
        "            data = r.json()\n",
        "            text = f'''\n",
        "🌍 Global COVID-19 Update:\n",
        "--------------------------\n",
        "Confirmed Cases : {data[\"cases\"]}\n",
        "Deaths          : {data[\"deaths\"]}\n",
        "Recovered       : {data[\"recovered\"]}\n",
        "'''\n",
        "            print(text)\n",
        "\n",
        "        except Exception as e:\n",
        "            print(f\"[Error] Failed to fetch data:\\n{e}\")\n",
        "\n",
        "        time.sleep(60)  # Wait 60 seconds before the next update\n",
        "\n",
        "# ⚠️ To avoid infinite loop in Colab, only run once or a few times:\n",
        "update()  # You can modify this to update a limited number of times\n"
      ]
    },
    {
      "cell_type": "code",
      "source": [],
      "metadata": {
        "id": "WkDEdu6JOX1T"
      },
      "execution_count": null,
      "outputs": []
    }
  ]
}